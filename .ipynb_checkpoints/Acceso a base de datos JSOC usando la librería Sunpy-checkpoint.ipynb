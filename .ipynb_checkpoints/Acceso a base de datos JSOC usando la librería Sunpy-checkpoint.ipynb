{
 "cells": [
  {
   "cell_type": "markdown",
   "metadata": {},
   "source": [
    "# Universidad de Costa Rica\n",
    "## Centro de Investigaciones Espaciales - CINESPA\n",
    "\n",
    "Proyecto:  Estudio de la radiación de microondas y rayos X como índicadores de la velocidad de propagación de CME's en el medio interplanetario.\n",
    "\n",
    "Coordinadores: Carolina Salas -\n",
    "               Felipe Meza\n",
    "               \n",
    "Asistente: Yasser Wagon\n",
    "\n",
    "Periodo: II ciclo- 2018\n",
    "\n",
    "\n",
    "# Obtención de datos JSOC usando la librería Sunpy\n",
    "\n",
    "Sunpy es una paquete de software open-source para física solar. Permite la obtención y análisis de datos solares de diferentes misiones e instrumentos. Fue desarrollado por un grupo de científicos e ingenieros de la NASA Goddar Space Flight Center en 2011. Sunpy está escrito en el lenguaje de programación Python.\n",
    "\n",
    "Para la obtención de datos solares, Sunpy puede acceder a la base de datos del Centro de Operciones Conjuntas, o JSOC por sus siglas en inglés. Los datos contenidos provienen del Observatorio de Dinámica Solar (SDO).\n",
    "Algunos instrumentos que se encuentran realizando mediciones en el SDO son:\n",
    "\n",
    "***- Helioseismic and Magnetic Imager (HMI):*** Instrumento que estudia las oscilaciones y campos magnéticos de la superficie solar.\n",
    "\n",
    "***- Atmospheric Imaging Assembly (AIA):*** Instrumento que toma simultáneas imágenes del disco solar a diferentes longitudes de onda para el estudio de la corona solar.\n",
    "\n",
    "***- Interface Region Imaging Spectrograph (IRIS):*** Es un espectrógrafo de imágenes multicanal, tiene como objetivo entender como la atmósfera solar es energizada.\n",
    "\n",
    "\n",
    "Buscar y descargar datos de JSOC se divide en 2 etapas, primeramente se debe de realizar la busqueda de los datos con la función search() y después se procede a descargarlos con la función fetch().\n",
    "\n",
    "**NOTA** : Para acceder a la base de datos JSOC es necesario registrar un correo eléctronico en la página official: \n",
    "http://jsoc.stanford.edu/ajax/register_email.html\n",
    "\n",
    "\n"
   ]
  },
  {
   "cell_type": "markdown",
   "metadata": {},
   "source": [
    "Se importa el módulo Fido de Sunpy, el cual permite buscar y descargar datos de la Federated Internet Data Obtainer. Fido es una interfaz unificada para la obtención de datos de física solar independientemente del provedor. Una ventaja de utilizar el módulo Fido de Sunpy, es que proporciona los datos solares de una forma fácil y consistente, para su posterior uso.\n",
    "\n",
    "La base de datos JSOC es uno de los varios proveedores de datos solares que posee Fido."
   ]
  },
  {
   "cell_type": "code",
   "execution_count": 1,
   "metadata": {},
   "outputs": [],
   "source": [
    "from sunpy.net import Fido, attrs as a\n",
    "from sunpy.time import TimeRange\n",
    "from sunpy.timeseries import TimeSeries\n",
    "import astropy.units as u\n",
    "\n",
    "import matplotlib.pyplot as plt\n",
    "%matplotlib inline"
   ]
  },
  {
   "cell_type": "markdown",
   "metadata": {},
   "source": [
    "***NOTA:*** Para evitar problemas importanto los módulos, se debe de hacer en el siguiente orden: primero sunpy.net, seguido de sunpy.time y de último sunpy.timeseries\n",
    "\n",
    "sunpy.time permite declarar un rango de tiempo, mientras que sunpy.timeseries permite la creación de objetos que tienen información que varía en el tiempo.\n",
    "\n",
    "Finalmente, se importa la librería matplotlib para visualizar datos de interes."
   ]
  },
  {
   "cell_type": "markdown",
   "metadata": {},
   "source": [
    "## Busqueda y descarga de archivos FITS en JSOC\n",
    "\n",
    "A continucación, se procederá a realizar la busqueda y descarga de los archivos FITS correspondientes a un curioso evento solar ocurrido el 07 de junio de 2011. \n",
    "\n",
    "Primeramente se utiliza el módulo TimeRange de sunpy.time para establecer un rango de tiempo deseado. Se definirá la variable \"tr\" que corresponderá al rango de 05:30am a 08:00am, horas donde se tenía una importante actividad solar.\n",
    "\n",
    "Se realiza la busqueda usando la función search() del módulo Fido, sin embargo, se especifica que la busqueda corresponde a la base de datos JSOC dentro de los parámetros que recibe dicha función. A continuación se detallan los parámetros de busqueda utilizados:\n",
    "\n",
    "**a.jsoc.Time(tr.start, tr.end)**: Se especifíca que se buscarán archivos FITS entre el intervalo de 2011-06-07 05:30 a 2011-06-07 08:00. Usando objetos de tipo TimeRange, se tiene como atributo el inicio (tr.start) y el final (tr.end) del intervalo.\n",
    "\n",
    "**a.jsoc.Series('aia.lev1_euv_12s')**: El parámetro de busqueda Series, permite filtrar el instrumento de medición del que se desean obtener los datos. Se tiene  a disposición una gran variedad de instrumentos de medición que se enlistan en la pagina oficial de JSOC http://jsoc.stanford.edu/JsocSeries_DataProducts_map.html\n",
    "En este caso, se toma la serie de datos del instrumento AIA nivel 1, con una cadencia de 12 segundos. Esto corresponde a la serie 'aia.lev1_euv_12s'.\n",
    "\n",
    "**a.jsoc.Wavelength(171*u.AA)**: Debido a que se están buscando datos de AIA, se puede específicar la longitud de onda de medición. Se elije una longitud de onda de 171 Å (Angstrom), con la ayuda del módulo units (u.AA) de la librería Astropy. Es importante enviar correctamente el dato de la longitud de onda, con sus unidades en Angstrom, para evitar errores de compilación.\n",
    "\n",
    "**a.vso.Sample(15*u.minute)**: Se muestrea el rango de datos cada 15 minutos. Lo anterior debido a que se tendrán datos desde las 5:30 am hasta las 8:00am con una cadencia de 12 segundos, resultando en cientos de archivos fits.\n",
    "\n",
    "**a.jsoc.Notify('yasser.wagon@ucr.ac.cr')**: Para el acceso de la base de datos de JSOC, se debe de registrar un correo electrónico."
   ]
  },
  {
   "cell_type": "code",
   "execution_count": 2,
   "metadata": {},
   "outputs": [
    {
     "data": {
      "text/html": [
       "Results from 1 Provider:</br></br>10 Results from the JSOCClient:</br>&lt;Table length=10&gt;\n",
       "<table id=\"table139619412337552\" class=\"table-striped table-bordered table-condensed\">\n",
       "<thead><tr><th>T_REC</th><th>TELESCOP</th><th>INSTRUME</th><th>WAVELNTH</th><th>CAR_ROT</th></tr></thead>\n",
       "<thead><tr><th>unicode20</th><th>unicode7</th><th>unicode5</th><th>int64</th><th>int64</th></tr></thead>\n",
       "<tr><td>2011-06-07T05:30:02Z</td><td>SDO/AIA</td><td>AIA_3</td><td>171</td><td>2111</td></tr>\n",
       "<tr><td>2011-06-07T05:45:02Z</td><td>SDO/AIA</td><td>AIA_3</td><td>171</td><td>2111</td></tr>\n",
       "<tr><td>2011-06-07T06:00:02Z</td><td>SDO/AIA</td><td>AIA_3</td><td>171</td><td>2111</td></tr>\n",
       "<tr><td>2011-06-07T06:15:02Z</td><td>SDO/AIA</td><td>AIA_3</td><td>171</td><td>2111</td></tr>\n",
       "<tr><td>2011-06-07T06:45:02Z</td><td>SDO/AIA</td><td>AIA_3</td><td>171</td><td>2111</td></tr>\n",
       "<tr><td>2011-06-07T07:00:02Z</td><td>SDO/AIA</td><td>AIA_3</td><td>171</td><td>2111</td></tr>\n",
       "<tr><td>2011-06-07T07:15:02Z</td><td>SDO/AIA</td><td>AIA_3</td><td>171</td><td>2111</td></tr>\n",
       "<tr><td>2011-06-07T07:30:02Z</td><td>SDO/AIA</td><td>AIA_3</td><td>171</td><td>2111</td></tr>\n",
       "<tr><td>2011-06-07T07:45:02Z</td><td>SDO/AIA</td><td>AIA_3</td><td>171</td><td>2111</td></tr>\n",
       "<tr><td>2011-06-07T08:00:02Z</td><td>SDO/AIA</td><td>AIA_3</td><td>171</td><td>2111</td></tr>\n",
       "</table></br>"
      ],
      "text/plain": [
       "<sunpy.net.fido_factory.UnifiedResponse object at 0x7efbae0f62d0>\n",
       "Results from 1 Provider:\n",
       "\n",
       "10 Results from the JSOCClient:\n",
       "       T_REC         TELESCOP INSTRUME WAVELNTH CAR_ROT\n",
       "     unicode20       unicode7 unicode5  int64    int64 \n",
       "-------------------- -------- -------- -------- -------\n",
       "2011-06-07T05:30:02Z  SDO/AIA    AIA_3      171    2111\n",
       "2011-06-07T05:45:02Z  SDO/AIA    AIA_3      171    2111\n",
       "2011-06-07T06:00:02Z  SDO/AIA    AIA_3      171    2111\n",
       "2011-06-07T06:15:02Z  SDO/AIA    AIA_3      171    2111\n",
       "2011-06-07T06:45:02Z  SDO/AIA    AIA_3      171    2111\n",
       "2011-06-07T07:00:02Z  SDO/AIA    AIA_3      171    2111\n",
       "2011-06-07T07:15:02Z  SDO/AIA    AIA_3      171    2111\n",
       "2011-06-07T07:30:02Z  SDO/AIA    AIA_3      171    2111\n",
       "2011-06-07T07:45:02Z  SDO/AIA    AIA_3      171    2111\n",
       "2011-06-07T08:00:02Z  SDO/AIA    AIA_3      171    2111\n"
      ]
     },
     "execution_count": 2,
     "metadata": {},
     "output_type": "execute_result"
    }
   ],
   "source": [
    "tr = TimeRange(['2011-06-07 05:30', '2011-06-07 08:00'])\n",
    "\n",
    "resultsAIA = Fido.search(a.jsoc.Time(tr.start, tr.end), a.jsoc.Series('aia.lev1_euv_12s'), a.jsoc.Wavelength(171*u.AA), a.vso.Sample(15*u.minute),  a.jsoc.Notify('yasser.wagon@ucr.ac.cr'))\n",
    "resultsAIA\n"
   ]
  },
  {
   "cell_type": "markdown",
   "metadata": {},
   "source": [
    "Se tiene un total de 10 archivos fits encontrados. Se observa que los resultados efectivamente están filtrados al instrumento AIA, con longitud de onda de 171 Å y muestrados cada 15 minutos.\n",
    "\n",
    "Una vez realizada la busqueda, se procede con la descarga de los archivos. Para ello se usa la función fetch() del módulo Fido. "
   ]
  },
  {
   "cell_type": "code",
   "execution_count": 3,
   "metadata": {},
   "outputs": [
    {
     "name": "stdout",
     "output_type": "stream",
     "text": [
      "Export request pending. [id=\"JSOC_20181022_050\", status=2]\n",
      "Waiting for 0 seconds...\n",
      "Request not found on server, 5 retries left.\n",
      "Export request pending. [id=\"JSOC_20181022_050\", status=6]\n",
      "Waiting for 5 seconds...\n",
      "Request not found on server, 4 retries left.\n",
      "Export request pending. [id=\"JSOC_20181022_050\", status=6]\n",
      "Waiting for 5 seconds...\n",
      "Export request pending. [id=\"JSOC_20181022_050\", status=1]\n",
      "Waiting for 5 seconds...\n",
      "Export request pending. [id=\"JSOC_20181022_050\", status=1]\n",
      "Waiting for 5 seconds...\n",
      "Skipping download of file aia.lev1_euv_12s.2011-06-07T053013Z.171.image_lev1.fits as it has already been downloaded. If you want to redownload the data, please set overwrite to True\n",
      "Skipping download of file aia.lev1_euv_12s.2011-06-07T053013Z.171.spikes.fits as it has already been downloaded. If you want to redownload the data, please set overwrite to True\n",
      "Skipping download of file aia.lev1_euv_12s.2011-06-07T054513Z.171.image_lev1.fits as it has already been downloaded. If you want to redownload the data, please set overwrite to True\n",
      "Skipping download of file aia.lev1_euv_12s.2011-06-07T054513Z.171.spikes.fits as it has already been downloaded. If you want to redownload the data, please set overwrite to True\n",
      "Skipping download of file aia.lev1_euv_12s.2011-06-07T060013Z.171.image_lev1.fits as it has already been downloaded. If you want to redownload the data, please set overwrite to True\n",
      "Skipping download of file aia.lev1_euv_12s.2011-06-07T060013Z.171.spikes.fits as it has already been downloaded. If you want to redownload the data, please set overwrite to True\n",
      "Skipping download of file aia.lev1_euv_12s.2011-06-07T061513Z.171.image_lev1.fits as it has already been downloaded. If you want to redownload the data, please set overwrite to True\n",
      "Skipping download of file aia.lev1_euv_12s.2011-06-07T061513Z.171.spikes.fits as it has already been downloaded. If you want to redownload the data, please set overwrite to True\n",
      "Skipping download of file aia.lev1_euv_12s.2011-06-07T064513Z.171.image_lev1.fits as it has already been downloaded. If you want to redownload the data, please set overwrite to True\n",
      "Skipping download of file aia.lev1_euv_12s.2011-06-07T064513Z.171.spikes.fits as it has already been downloaded. If you want to redownload the data, please set overwrite to True\n",
      "Skipping download of file aia.lev1_euv_12s.2011-06-07T070014Z.171.image_lev1.fits as it has already been downloaded. If you want to redownload the data, please set overwrite to True\n",
      "Skipping download of file aia.lev1_euv_12s.2011-06-07T070014Z.171.spikes.fits as it has already been downloaded. If you want to redownload the data, please set overwrite to True\n",
      "Skipping download of file aia.lev1_euv_12s.2011-06-07T071513Z.171.image_lev1.fits as it has already been downloaded. If you want to redownload the data, please set overwrite to True\n",
      "Skipping download of file aia.lev1_euv_12s.2011-06-07T071513Z.171.spikes.fits as it has already been downloaded. If you want to redownload the data, please set overwrite to True\n",
      "Skipping download of file aia.lev1_euv_12s.2011-06-07T073014Z.171.image_lev1.fits as it has already been downloaded. If you want to redownload the data, please set overwrite to True\n",
      "Skipping download of file aia.lev1_euv_12s.2011-06-07T073014Z.171.spikes.fits as it has already been downloaded. If you want to redownload the data, please set overwrite to True\n",
      "Skipping download of file aia.lev1_euv_12s.2011-06-07T074513Z.171.image_lev1.fits as it has already been downloaded. If you want to redownload the data, please set overwrite to True\n",
      "Skipping download of file aia.lev1_euv_12s.2011-06-07T074513Z.171.spikes.fits as it has already been downloaded. If you want to redownload the data, please set overwrite to True\n",
      "Skipping download of file aia.lev1_euv_12s.2011-06-07T080013Z.171.image_lev1.fits as it has already been downloaded. If you want to redownload the data, please set overwrite to True\n",
      "Skipping download of file aia.lev1_euv_12s.2011-06-07T080013Z.171.spikes.fits as it has already been downloaded. If you want to redownload the data, please set overwrite to True\n",
      "[                                        ========================================\n"
     ]
    }
   ],
   "source": [
    "downloaded_files = Fido.fetch(resultsAIA, path='/home/yasser/Documents/HorasAsistenteB7088/JSOC_AIA_FITS/{file}.fits')"
   ]
  },
  {
   "cell_type": "markdown",
   "metadata": {},
   "source": [
    "## Busqueda y descarga de flujo de rayos X (XRS) GOES\n",
    "\n",
    "Se procede a buscar la serie del flujo de rayos X (XRS) del GOES. Similar a la descarga de archivos FITS, la búsqueda y descarga de series del XRS, se hace con el módulo Fido. A continuación se realiza la búsqueda en el mismo rango de tiempo tr. "
   ]
  },
  {
   "cell_type": "code",
   "execution_count": 4,
   "metadata": {},
   "outputs": [
    {
     "data": {
      "text/html": [
       "Results from 1 Provider:</br></br>1 Results from the XRSClient:</br>&lt;Table length=1&gt;\n",
       "<table id=\"table139619412964496\" class=\"table-striped table-bordered table-condensed\">\n",
       "<thead><tr><th>Start Time</th><th>End Time</th><th>Source</th><th>Instrument</th><th>Wavelength</th></tr></thead>\n",
       "<thead><tr><th>str19</th><th>str19</th><th>str4</th><th>str4</th><th>str3</th></tr></thead>\n",
       "<tr><td>2011-06-07 00:00:00</td><td>2011-06-07 23:59:59</td><td>nasa</td><td>goes</td><td>nan</td></tr>\n",
       "</table></br>"
      ],
      "text/plain": [
       "<sunpy.net.fido_factory.UnifiedResponse object at 0x7efbc1404490>\n",
       "Results from 1 Provider:\n",
       "\n",
       "1 Results from the XRSClient:\n",
       "     Start Time           End Time      Source Instrument Wavelength\n",
       "       str19               str19         str4     str4       str3   \n",
       "------------------- ------------------- ------ ---------- ----------\n",
       "2011-06-07 00:00:00 2011-06-07 23:59:59   nasa       goes        nan\n"
      ]
     },
     "execution_count": 4,
     "metadata": {},
     "output_type": "execute_result"
    }
   ],
   "source": [
    "resultsXRS = Fido.search(a.Time(tr.start, tr.end), a.Instrument('XRS'))\n",
    "resultsXRS"
   ]
  },
  {
   "cell_type": "markdown",
   "metadata": {},
   "source": [
    "Se procede a descargar los datos del XRS y se realiza un objeto de tipo TimeSeries para su posterior ploteo."
   ]
  },
  {
   "cell_type": "code",
   "execution_count": 5,
   "metadata": {},
   "outputs": [
    {
     "name": "stdout",
     "output_type": "stream",
     "text": [
      "[                                        ========================================\n",
      "['/home/yasser/Documents/HorasAsistenteB7088/go1520110607.0.fits']\n"
     ]
    },
    {
     "name": "stderr",
     "output_type": "stream",
     "text": [
      "/usr/local/lib/python2.7/dist-packages/matplotlib/figure.py:459: UserWarning: matplotlib is currently using a non-GUI backend, so cannot show the figure\n",
      "  \"matplotlib is currently using a non-GUI backend, \"\n"
     ]
    },
    {
     "ename": "AttributeError",
     "evalue": "'list' object has no attribute 'data'",
     "output_type": "error",
     "traceback": [
      "\u001b[0;31m---------------------------------------------------------------------------\u001b[0m",
      "\u001b[0;31mAttributeError\u001b[0m                            Traceback (most recent call last)",
      "\u001b[0;32m<ipython-input-5-118840854faf>\u001b[0m in \u001b[0;36m<module>\u001b[0;34m()\u001b[0m\n\u001b[1;32m      6\u001b[0m \u001b[0;34m\u001b[0m\u001b[0m\n\u001b[1;32m      7\u001b[0m \u001b[0;34m\u001b[0m\u001b[0m\n\u001b[0;32m----> 8\u001b[0;31m \u001b[0mfilesXRS\u001b[0m\u001b[0;34m.\u001b[0m\u001b[0mdata\u001b[0m\u001b[0;34m\u001b[0m\u001b[0m\n\u001b[0m",
      "\u001b[0;31mAttributeError\u001b[0m: 'list' object has no attribute 'data'"
     ]
    },
    {
     "data": {
      "image/png": "[encoded data removed]",
      "text/plain": [
       "<Figure size 432x288 with 2 Axes>"
      ]
     },
     "metadata": {},
     "output_type": "display_data"
    }
   ],
   "source": [
    "filesXRS = Fido.fetch(resultsXRS, path='/home/yasser/Documents/HorasAsistenteB7088')\n",
    "print(filesXRS)\n",
    "goes = TimeSeries(filesXRS, source='XRS')\n",
    "goes.peek()\n",
    "\n",
    "\n",
    "\n",
    "goes.data"
   ]
  },
  {
   "cell_type": "code",
   "execution_count": null,
   "metadata": {},
   "outputs": [],
   "source": []
  }
 ],
 "metadata": {
  "kernelspec": {
   "display_name": "Python 2",
   "language": "python",
   "name": "python2"
  },
  "language_info": {
   "codemirror_mode": {
    "name": "ipython",
    "version": 2
   },
   "file_extension": ".py",
   "mimetype": "text/x-python",
   "name": "python",
   "nbconvert_exporter": "python",
   "pygments_lexer": "ipython2",
   "version": "2.7.13"
  }
 },
 "nbformat": 4,
 "nbformat_minor": 2
}

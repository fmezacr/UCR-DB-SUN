{
 "cells": [
  {
   "cell_type": "markdown",
   "metadata": {},
   "source": [
    "Se instancian las librerías y herramientas necesarias para la ejecución de las tareas."
   ]
  },
  {
   "cell_type": "code",
   "execution_count": null,
   "metadata": {},
   "outputs": [],
   "source": [
    "from sunpy.net import Fido, attrs as a\n",
    "\n",
    "import numpy as np\n",
    "import matplotlib\n",
    "import matplotlib.pyplot as plt\n",
    "%matplotlib inline\n",
    "\n",
    "from sunpy.timeseries import TimeSeries\n",
    "from __future__ import print_function, division\n",
    "\n",
    "import datetime\n",
    "import copy\n",
    "from collections import OrderedDict\n",
    "\n",
    "import numpy as np\n",
    "import pandas as pd\n",
    "from glob import glob\n",
    "import cv2 as cv\n",
    "import os\n",
    "\n",
    "import astropy.units as u\n",
    "from astropy.time import Time\n",
    "from astropy.table import Table\n",
    "\n",
    "import sunpy.data.sample\n",
    "import sunpy.map\n",
    "from sunpy.util.metadata import MetaDict\n",
    "from sunpy.time import TimeRange, parse_time\n",
    "\n",
    "from mpl_toolkits import mplot3d\n",
    "from mpl_toolkits.mplot3d import Axes3D\n",
    "from skimage.feature import peak_local_max\n",
    "from astropy.io import fits"
   ]
  },
  {
   "cell_type": "markdown",
   "metadata": {},
   "source": [
    "Se muestra información general del script y se le solicita al usuario que ingrese un rango de tiempo con el que se buscará en la base de datos el TimeSeries del XRS (sensor de rayos X)."
   ]
  },
  {
   "cell_type": "code",
   "execution_count": null,
   "metadata": {},
   "outputs": [],
   "source": [
    "#Se imprime en terminal información general del script\n",
    "print(\"El presente script busca y descarga los TimeSeries de las curvas XRS,\\na partir de un rango de tiempo que ingresa el usuario.\")\n",
    "print(\"Seguidamente se detectan los picos en las curvas y se extraen las fechas de dichos picos.\")\n",
    "print(\"Se define un delta de tiempo y se descargan las imágenes FITS. Finalmente se estudian las\\nintensidades de las imágenes FITS en una región de interés (ROI).\")\n",
    "print(\"-------------------------------------------------------------------------------------------\")\n",
    "print(\"Ingrese las fechas en cualquiera de los siguientes formatos:\\n- 2007-May-04 21:08:12\\n- 2007-05-04T21:08:12\\n- 2007/05/04T21:08:12\")\n",
    "print(\"- 20070504T210812\\n- 20070504_210812\\n\")\n",
    "initialTime = raw_input(\"Ingrese fecha inicial: \")\n",
    "finalTime = raw_input(\"Ingrese fecha final: \")\n",
    "\n",
    "#2011-06-07 05:30\n",
    "\n",
    "#Se crea TimeRange con las fechas ingresadas y se imprime\n",
    "time_range = TimeRange(initialTime, finalTime)\n",
    "print(\"\\nEl intervalo de tiempo ingresado es:\\n\", time_range)"
   ]
  },
  {
   "cell_type": "markdown",
   "metadata": {},
   "source": [
    "Se define el rango de tiempo proporcionado por el usuario, por medio de un objeto TimeRange de la librería Sunpy. Dichos objetos poseen muchas funcionalidades al trabajar con tiempos y rangos de tiempo. \n",
    "Al imprimir un objeto TimeRange se observa la fecha inicial, la fecha final, el centro del intervalo y la duración en diferentes unidades.\n",
    "\n",
    "Para más información acerca de los objetos TimeRange visitar el link: https://docs.sunpy.org/en/stable/api/sunpy.time.TimeRange.html#sunpy.time.TimeRange\n",
    "\n",
    "Se procede con la busqueda y descarga de las curvas del XRS.\n",
    "\n"
   ]
  },
  {
   "cell_type": "code",
   "execution_count": null,
   "metadata": {},
   "outputs": [],
   "source": [
    "#Busqueda de curvas XRS en FIDO\n",
    "resultSearchXRS = Fido.search(a.Time(time_range.start, time_range.end), a.Instrument('XRS'))\n",
    "resultSearchXRS\n"
   ]
  },
  {
   "cell_type": "code",
   "execution_count": null,
   "metadata": {},
   "outputs": [],
   "source": [
    "#Descarga de curvas XRS\n",
    "filesXRS = Fido.fetch(resultSearchXRS, path='/home/yasser/Documents/DatosJupyterSun/CurvasXRS')"
   ]
  },
  {
   "cell_type": "markdown",
   "metadata": {},
   "source": [
    "Para obtener los datos de las curvas XRS, se debe primero buscar en el intervalo de tiempo deseado(Fido.search) y después descargar(Fido.fetch). Se debe de especificar un path donde se almacenarán los archivos. \n",
    "\n",
    "A continuación se crea un objeto de tipo TimeSeries con los datos XRS descargados y se plotea.\n",
    "\n",
    "Para más información acerca de los objetos TimeSeries visitar el link:\n",
    "https://docs.sunpy.org/en/stable/guide/data_types/timeseries.html\n",
    "\n"
   ]
  },
  {
   "cell_type": "code",
   "execution_count": null,
   "metadata": {},
   "outputs": [],
   "source": [
    "goesXRS_TS = TimeSeries(filesXRS, source= 'XRS')\n",
    "goesXRS_TS.peek()"
   ]
  },
  {
   "cell_type": "markdown",
   "metadata": {},
   "source": [
    "Se observan dos curvas, una roja y otra azul, se tomará la curva roja, que corresponde a los datos 'xrsb'. Sobre esa curva se deben de buscar los picos y extraer las fechas. La función definida abajo, findpeaks(series, DELTA), toma una serie de datos de cualquier curva y encuentra los puntos mínimos y máximos. Para ello usa como criterio la variable DELTA, que es la mínima distancia en el eje 'y' que define a un pico de otro. "
   ]
  },
  {
   "cell_type": "code",
   "execution_count": null,
   "metadata": {},
   "outputs": [],
   "source": [
    "def findpeaks(series, DELTA):\n",
    "    # Set inital values\n",
    "    mn, mx = np.Inf, -np.Inf\n",
    "    minpeaks = []\n",
    "    maxpeaks = []\n",
    "    lookformax = True\n",
    "    start = True\n",
    "    # Iterate over items in series\n",
    "    for time_pos, value in series.iteritems():\n",
    "        if value > mx:\n",
    "            mx = value\n",
    "            mxpos = time_pos\n",
    "        if value < mn:\n",
    "            mn = value\n",
    "            mnpos = time_pos\n",
    "        if lookformax:\n",
    "            if value < mx-DELTA:\n",
    "                # a local maxima\n",
    "                maxpeaks.append((mxpos, mx))\n",
    "                mn = value\n",
    "                mnpos = time_pos\n",
    "                lookformax = False\n",
    "            elif start:\n",
    "                # a local minima at beginning\n",
    "                minpeaks.append((mnpos, mn))\n",
    "                mx = value\n",
    "                mxpos = time_pos\n",
    "                start = False\n",
    "        else:\n",
    "            if value > mn+DELTA:\n",
    "                # a local minima\n",
    "                minpeaks.append((mnpos, mn))\n",
    "                mx = value\n",
    "                mxpos = time_pos\n",
    "                lookformax = True\n",
    "    # check for extrema at end\n",
    "    if value > mn+DELTA:\n",
    "        maxpeaks.append((mxpos, mx))\n",
    "    elif value < mx-DELTA:\n",
    "        minpeaks.append((mnpos, mn))\n",
    "    return minpeaks, maxpeaks"
   ]
  },
  {
   "cell_type": "markdown",
   "metadata": {},
   "source": [
    "Se procede a tomar la serie de datos 'xrsb' del TimeSeries y se le envía a la función findpeaks."
   ]
  },
  {
   "cell_type": "code",
   "execution_count": null,
   "metadata": {
    "scrolled": false
   },
   "outputs": [],
   "source": [
    "#Se extrae la serie xrsb\n",
    "xrs_Series = goesXRS_TS.data['xrsb']\n",
    "\n",
    "#Se extraen los picos mínimos y máximos de la serie\n",
    "min_picos, max_picos = findpeaks(xrs_Series, DELTA=0.0000001)\n",
    "\n",
    "print ('Los picos máximos son:')\n",
    "print (max_picos, '\\n')\n",
    "\n",
    "print (len(max_picos))\n",
    "\n",
    "#Se plotea la curva con los picos máximos \n",
    "plt.figure()\n",
    "plt.ylabel('Sunspot Number')\n",
    "plt.xlabel('Time')\n",
    "plt.title('Peaks in TimeSeries')\n",
    "xrs_Series.plot()\n",
    "plt.scatter(*zip(*max_picos), color='red', label='max')\n",
    "#plt.scatter(*zip(*minpeaks), color='green', label='min')\n",
    "plt.legend()\n",
    "plt.grid(True)\n",
    "plt.show()"
   ]
  },
  {
   "cell_type": "markdown",
   "metadata": {},
   "source": [
    " Se procede a descartar todos los picos que sean menores a $10^{-6}$ y se vuelve a plotear la curva."
   ]
  },
  {
   "cell_type": "code",
   "execution_count": null,
   "metadata": {},
   "outputs": [],
   "source": [
    "maxPicosArriba10e_m06 = []\n",
    "\n",
    "for i in range(0, len(max_picos)-1):\n",
    "    if max_picos[i][1] > 1.0e-06:\n",
    "        maxPicosArriba10e_m06.append(max_picos[i])\n",
    "    \n",
    "    \n",
    "print (maxPicosArriba10e_m06)\n",
    "print (len(maxPicosArriba10e_m06))\n"
   ]
  },
  {
   "cell_type": "code",
   "execution_count": null,
   "metadata": {},
   "outputs": [],
   "source": [
    "#Se plotea la curva con los picos máximos \n",
    "plt.figure()\n",
    "plt.ylabel('Sunspot Number')\n",
    "plt.xlabel('Time')\n",
    "plt.title('Peaks in TimeSeries')\n",
    "xrs_Series.plot()\n",
    "plt.scatter(*zip(*maxPicosArriba10e_m06), color='red', label='max')\n",
    "#plt.scatter(*zip(*minpeaks), color='green', label='min')\n",
    "plt.legend()\n",
    "plt.grid(True)\n",
    "plt.show()"
   ]
  },
  {
   "cell_type": "markdown",
   "metadata": {},
   "source": [
    "Una vez identificados los picos máximos en la curva del XRS, se procede a guardar un archivo en formato .csv con dicha información. "
   ]
  },
  {
   "cell_type": "code",
   "execution_count": null,
   "metadata": {},
   "outputs": [],
   "source": [
    "#Se define DataFrame de pandas para guardar\n",
    "#información en archivo .csv\n",
    "dataFrameMaxPicos = pd.DataFrame(maxPicosArriba10e_m06)\n",
    "dataFrameMaxPicos.to_csv('/home/yasser/Documents/DatosJupyterSun/maxPicos.csv', sep='\\t', index=False)"
   ]
  },
  {
   "cell_type": "markdown",
   "metadata": {},
   "source": [
    "A continuación se define la función returnDataRange(centralDate, delta_min), la cual toma las fechas de los picos máximos detectados en las curvas, y crea un rango de tiempo con un delta_min = 30 min antes y después."
   ]
  },
  {
   "cell_type": "code",
   "execution_count": null,
   "metadata": {},
   "outputs": [],
   "source": [
    "def returnDataRange(centralDate, delta_min):\n",
    "    date_rangeUp = TimeRange(centralDate, delta_min * u.min).previous()\n",
    "    date_rangeFinal = TimeRange(date_rangeUp.start, date_rangeUp.next().end)\n",
    "    return date_rangeFinal\n",
    "\n",
    "maxPicoTR = returnDataRange(maxPicosArriba10e_m06[4][0], 30)\n",
    "print (maxPicoTR)"
   ]
  },
  {
   "cell_type": "markdown",
   "metadata": {},
   "source": [
    "Con el rango de tiempo definido anteriormente, se procede con la busqueda y descarga de los archivos FITS del AIA/SDO."
   ]
  },
  {
   "cell_type": "code",
   "execution_count": null,
   "metadata": {
    "scrolled": false
   },
   "outputs": [],
   "source": [
    "resultsAIA = Fido.search(a.jsoc.Time(maxPicoTR.start, maxPicoTR.end), a.jsoc.Series('aia.lev1_euv_12s'), a.jsoc.Wavelength(193*u.AA), a.vso.Sample(2*u.minute),  a.jsoc.Notify('yasser.wagon@ucr.ac.cr'))\n",
    "resultsAIA"
   ]
  },
  {
   "cell_type": "code",
   "execution_count": null,
   "metadata": {},
   "outputs": [],
   "source": [
    "#Se descargan los archivos FITS\n",
    "downloaded_files = Fido.fetch(resultsAIA, path='/home/yasser/Documents/DatosJupyterSun/JSOC_AIA_FITS/{file}.fits')"
   ]
  },
  {
   "cell_type": "code",
   "execution_count": null,
   "metadata": {
    "scrolled": false
   },
   "outputs": [],
   "source": [
    "#Se abre archivo FITS y se convierte a un objeto map de sunpy\n",
    "fits_image_filename = '/home/yasser/Documents/DatosJupyterSun/JSOC_AIA_FITS/aia.lev1_euv_12s.2011-06-07T070133Z.193.image_lev1.fits'\n",
    "fits_image_filename1 = '/home/yasser/Documents/DatosJupyterSun/JSOC_AIA_FITS/aia.lev1_euv_12s.2011-06-07T062634Z.193.image_lev1.fits'\n",
    "\n",
    "aiamap = sunpy.map.Map(fits_image_filename)\n",
    "aiamap1 = sunpy.map.Map(fits_image_filename1)\n",
    "\n",
    "#print (aiamap.meta)\n",
    "#print('\\n')\n",
    "#print (aiamap1.meta)\n"
   ]
  },
  {
   "cell_type": "markdown",
   "metadata": {},
   "source": [
    "Se delimita la zona de interes con un cuadro de lado igual a (2)(0.75*R_SUN) y centrado en el disco solar. Para ello se ingresa al metadata del map y se extraen las coordenadas en pixeles del sol, además del radio, y se guardan en variables."
   ]
  },
  {
   "cell_type": "code",
   "execution_count": null,
   "metadata": {},
   "outputs": [],
   "source": [
    "crpix1 = int(aiamap.meta['CRPIX1'])\n",
    "crpix2 = int(aiamap.meta['CRPIX2'])\n",
    "rSun = int(aiamap.meta['R_SUN'])\n",
    "sunCenter = np.array([crpix1, crpix2])\n",
    "\n",
    "print (sunCenter, rSun)\n"
   ]
  },
  {
   "cell_type": "markdown",
   "metadata": {},
   "source": [
    "Se define la función, drawROI(sunImageData, sunCenter, pixRadius, proportion), que se encargará de dibujar un cuadro que delimitará la ROI."
   ]
  },
  {
   "cell_type": "code",
   "execution_count": null,
   "metadata": {},
   "outputs": [],
   "source": [
    "def drawROI(sunImageData, sunCenter, pixRadius, proportion):\n",
    "    propRadius = int(proportion * pixRadius)\n",
    "    cv.rectangle(sunImageData, (sunCenter[0] - propRadius, sunCenter[1] - propRadius), (sunCenter[0] + propRadius, sunCenter[1] + propRadius), 0, 30)\n",
    "#    cv.circle(sunImageData, (sunCenter[0], sunCenter[1]), propRadius, 0, 30, cv.LINE_AA)\n",
    "    return sunImageData"
   ]
  },
  {
   "cell_type": "code",
   "execution_count": null,
   "metadata": {},
   "outputs": [],
   "source": [
    "drawROI(aiamap.data, sunCenter, rSun, 0.6)"
   ]
  },
  {
   "cell_type": "code",
   "execution_count": null,
   "metadata": {},
   "outputs": [],
   "source": [
    "plt.figure()\n",
    "aiamap.plot()\n",
    "plt.colorbar()\n",
    "cv.imwrite(\"/home/yasser/ImageSunOut.png\", aiamap.data)"
   ]
  },
  {
   "cell_type": "code",
   "execution_count": null,
   "metadata": {},
   "outputs": [],
   "source": [
    "def picosROI(coordenadasPicos, sunCenter, pixRadius, prop):\n",
    "    propRadius = int(prop * pixRadius)\n",
    "    picosEnROI = []\n",
    "    for s in range(0, len(coordenadasPicos)-1):\n",
    "        if (coordenadasPicos[s][0] > sunCenter[0] - propRadius and coordenadasPicos[s][0] < sunCenter[0] + propRadius):\n",
    "            if(coordenadasPicos[s][1] > sunCenter[1] - propRadius and coordenadasPicos[s][1] < sunCenter[1] + propRadius):\n",
    "                picosEnROI.append(coordenadasPicos[s])\n",
    "                \n",
    "    return np.array(picosEnROI)"
   ]
  },
  {
   "cell_type": "code",
   "execution_count": null,
   "metadata": {},
   "outputs": [],
   "source": [
    "def guardar3DPlotROI(FITS_dirPath, picosEnROI, sunCenter, pixRadius, prop):\n",
    "    #Se obtienen las direcciones de los archivos FITS a gráficar\n",
    "    fitsPaths= sorted(glob(str(FITS_dirPath)+'/*193.image_lev1.fits'))\n",
    "    print (len(fitsPaths))\n",
    "    \n",
    "    # Se itera sobre cada archivo FITS del directorio\n",
    "    for i in range(0, len(fitsPaths)):\n",
    "        # Se crea objeto Map y se obtiene el centro(sunC) y radio(radiusSun) \n",
    "        # del disco solar de los metadatos \n",
    "        aiamapFITS_i = sunpy.map.Map(fitsPaths[i])\n",
    "        propRadius = int(prop * pixRadius)\n",
    "        \n",
    "        x = np.arange(aiamapFITS_i.data.shape[0])\n",
    "        y = np.arange(aiamapFITS_i.data.shape[1])\n",
    "        X, Y = np.meshgrid(x[int(sunCenter[0]-propRadius): int(sunCenter[0]+propRadius)], y[int(sunCenter[1]-propRadius): int(sunCenter[1]+propRadius)])\n",
    "        \n",
    "        time_obs = str(aiamapFITS_i.meta['date-obs'])\n",
    "        if('.84' in time_obs):          \n",
    "            fig = plt.figure(figsize=(12,8))\n",
    "            ax = fig.add_subplot(111, projection='3d')\n",
    "            ax.plot_surface(X, Y, aiamapFITS_i.data[int(sunCenter[0]-propRadius): int(sunCenter[0]+propRadius), int(sunCenter[1]-propRadius): int(sunCenter[1]+propRadius)])\n",
    "            ax.set_zlim(0, 8000)\n",
    "            ax.view_init(elev=39, azim=64)\n",
    "            peaks_pos = aiamapFITS_i.data[picosEnROI[:, 0], picosEnROI[:, 1]]\n",
    "            ax.scatter(picosEnROI[:, 1], picosEnROI[:, 0], peaks_pos, color='r')\n",
    "            ax.set_xlabel('X Coordinates')\n",
    "            ax.set_ylabel('Y Coordinates')\n",
    "            ax.set_zlabel('Intensity')\n",
    "        \n",
    "            plt.savefig('/home/yasser/Documents/DatosJupyterSun/3D/'+str(aiamapFITS_i.meta['date-obs'])+'.png', bbox_inches='tight')\n",
    "        \n",
    "            plt.close(fig)"
   ]
  },
  {
   "cell_type": "code",
   "execution_count": null,
   "metadata": {},
   "outputs": [],
   "source": [
    "coor = peak_local_max(aiamap.data, min_distance=200, threshold_rel=0.2)\n",
    "print (coor, len(coor))\n",
    "\n",
    "fitsDir = '/home/yasser/Documents/DatosJupyterSun/JSOC_AIA_FITS'\n",
    "\n",
    "picosen_roi = picosROI(coor, sunCenter, rSun, 0.6)\n",
    "print (picosen_roi)\n",
    "\n",
    "guardar3DPlotROI(fitsDir, picosen_roi, sunCenter, rSun, 0.6)\n",
    "\n",
    "\n",
    "\n"
   ]
  },
  {
   "cell_type": "code",
   "execution_count": null,
   "metadata": {},
   "outputs": [],
   "source": [
    "def obtenerIntensidadesDePicosROI (FITS_dirPath, picosEnROI):\n",
    "    fitsPaths= sorted(glob(str(FITS_dirPath)+'/*193.image_lev1.fits'))\n",
    "    matrix = [['Time']]\n",
    "\n",
    "    for k in range(0, len(picosEnROI)):\n",
    "        matrix[0].append(picosEnROI[k])\n",
    "        \n",
    "    for i in range(0, len(fitsPaths)):\n",
    "        aiamapFITS_i = sunpy.map.Map(fitsPaths[i])\n",
    "        row_i = []\n",
    "        time_obs = str(aiamapFITS_i.meta['date-obs'])\n",
    "        if('.84' in time_obs):\n",
    "            row_i.append(parse_time(time_obs))            \n",
    "            peaks_pos = aiamapFITS_i.data[picosEnROI[:, 0], picosEnROI[:, 1]]\n",
    "            for s in range(0, len(peaks_pos)):\n",
    "                row_i.append(peaks_pos[s])\n",
    "            \n",
    "            matrix.append(row_i)\n",
    "        \n",
    "        \n",
    "    return np.array(matrix)\n",
    "    \n",
    "    \n"
   ]
  },
  {
   "cell_type": "code",
   "execution_count": null,
   "metadata": {},
   "outputs": [],
   "source": [
    "matriz = obtenerIntensidadesDePicosROI(fitsDir, picosen_roi)\n",
    "pd.DataFrame(matriz).to_csv('/home/yasser/Documents/DatosJupyterSun/maxPicosEvolucion.csv', sep='\\t', index=False)"
   ]
  },
  {
   "cell_type": "code",
   "execution_count": null,
   "metadata": {
    "scrolled": false
   },
   "outputs": [],
   "source": [
    "print (pd.DataFrame(matriz, index=None, columns=None))\n",
    "\n",
    "tsROI = TimeSeries(pd.DataFrame(matriz[1:][1:], index=None, columns=None))\n",
    "tsROI.peek()"
   ]
  },
  {
   "cell_type": "code",
   "execution_count": null,
   "metadata": {},
   "outputs": [],
   "source": [
    "def arrayMaps(FITS_dirPath):\n",
    "    fitsPaths= sorted(glob(str(FITS_dirPath)+'/*193.image_lev1.fits'))\n",
    "    img = []\n",
    "    \n",
    "    fig = plt.figure(figsize=(40,40))\n",
    "    for i in range(0, len(fitsPaths)):\n",
    "        aiamapFITS_i = sunpy.map.Map(fitsPaths[i])\n",
    "        time_obs = str(aiamapFITS_i.meta['date-obs'])\n",
    "        fig.add_subplot(4, 8, i+1)\n",
    "        if('.84' in time_obs):\n",
    "            aiamapFITS_i.plot()\n",
    "\n",
    "        \n",
    "    plt.show\n",
    "    "
   ]
  },
  {
   "cell_type": "code",
   "execution_count": null,
   "metadata": {
    "scrolled": true
   },
   "outputs": [],
   "source": [
    "arrayMaps(fitsDir)"
   ]
  },
  {
   "cell_type": "code",
   "execution_count": null,
   "metadata": {},
   "outputs": [],
   "source": [
    "def convert_frames_to_video(pathIn,pathOut,fps):    \n",
    "    frame_array = []\n",
    "    files = sorted(glob(str(pathIn)+'/*.png'))\n",
    " \n",
    "    #for sorting the file names properly\n",
    "    \n",
    "    for i in range(len(files)):\n",
    "        filename=files[i]\n",
    "        #reading each files\n",
    "        img = cv.imread(filename)\n",
    "        height, width, layers = img.shape\n",
    "        size = (width,height)\n",
    "        #inserting the frames into an image array\n",
    "        frame_array.append(img)\n",
    " \n",
    "    out = cv.VideoWriter(pathOut,cv.VideoWriter_fourcc(*'DIVX'), fps, size)\n",
    " \n",
    "    for i in range(len(frame_array)):\n",
    "        # writing to a image array\n",
    "        out.write(frame_array[i])\n",
    "    out.release()"
   ]
  },
  {
   "cell_type": "code",
   "execution_count": null,
   "metadata": {},
   "outputs": [],
   "source": [
    "pathIn = '/home/yasser/Documents/DatosJupyterSun/3D'\n",
    "pathOut = '/home/yasser/Documents/DatosJupyterSun/video.avi'\n",
    "fps = 3.0\n",
    "convert_frames_to_video(pathIn, pathOut, fps)"
   ]
  },
  {
   "cell_type": "code",
   "execution_count": null,
   "metadata": {},
   "outputs": [],
   "source": []
  }
 ],
 "metadata": {
  "kernelspec": {
   "display_name": "Python 2",
   "language": "python",
   "name": "python2"
  },
  "language_info": {
   "codemirror_mode": {
    "name": "ipython",
    "version": 2
   },
   "file_extension": ".py",
   "mimetype": "text/x-python",
   "name": "python",
   "nbconvert_exporter": "python",
   "pygments_lexer": "ipython2",
   "version": "2.7.13"
  }
 },
 "nbformat": 4,
 "nbformat_minor": 2
}

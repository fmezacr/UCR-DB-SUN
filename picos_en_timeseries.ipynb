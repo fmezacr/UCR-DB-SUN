{
 "cells": [
  {
   "cell_type": "code",
   "execution_count": 2,
   "metadata": {},
   "outputs": [],
   "source": [
    "%matplotlib inline"
   ]
  },
  {
   "cell_type": "markdown",
   "metadata": {},
   "source": [
    "\n",
    "# Busqueda de picos en Timeseries\n",
    "\n"
   ]
  },
  {
   "cell_type": "markdown",
   "metadata": {},
   "source": [
    "Se buscaran los minimos y máximos de un timeseries\n",
    "\n"
   ]
  },
  {
   "cell_type": "code",
   "execution_count": 3,
   "metadata": {},
   "outputs": [],
   "source": [
    "from sunpy.net import Fido, attrs as a\n",
    "\n",
    "import numpy as np\n",
    "import matplotlib.pyplot as plt\n",
    "\n",
    "from sunpy.timeseries import TimeSeries\n",
    "from __future__ import print_function, division\n",
    "\n",
    "import datetime\n",
    "import copy\n",
    "from collections import OrderedDict\n",
    "\n",
    "import numpy as np\n",
    "from pandas import DataFrame\n",
    "\n",
    "import astropy.units as u\n",
    "from astropy.time import Time\n",
    "from astropy.table import Table\n",
    "\n",
    "import sunpy.data.sample\n",
    "import sunpy.timeseries\n",
    "from sunpy.util.metadata import MetaDict\n",
    "from sunpy.time import TimeRange, parse_time"
   ]
  },
  {
   "cell_type": "code",
   "execution_count": 4,
   "metadata": {},
   "outputs": [
    {
     "ename": "ValueError",
     "evalue": "'2011' is not a valid time string!",
     "output_type": "error",
     "traceback": [
      "\u001b[0;31m---------------------------------------------------------------------------\u001b[0m",
      "\u001b[0;31mValueError\u001b[0m                                Traceback (most recent call last)",
      "\u001b[0;32m<ipython-input-4-a1d83b810021>\u001b[0m in \u001b[0;36m<module>\u001b[0;34m()\u001b[0m\n\u001b[0;32m----> 1\u001b[0;31m \u001b[0mtr\u001b[0m \u001b[0;34m=\u001b[0m \u001b[0mTimeRange\u001b[0m\u001b[0;34m(\u001b[0m\u001b[0;34m[\u001b[0m\u001b[0;34m'2011'\u001b[0m\u001b[0;34m,\u001b[0m \u001b[0;34m'2014'\u001b[0m\u001b[0;34m]\u001b[0m\u001b[0;34m)\u001b[0m\u001b[0;34m\u001b[0m\u001b[0m\n\u001b[0m\u001b[1;32m      2\u001b[0m \u001b[0;34m\u001b[0m\u001b[0m\n\u001b[1;32m      3\u001b[0m \u001b[0mresultsXRS\u001b[0m \u001b[0;34m=\u001b[0m \u001b[0mFido\u001b[0m\u001b[0;34m.\u001b[0m\u001b[0msearch\u001b[0m\u001b[0;34m(\u001b[0m\u001b[0ma\u001b[0m\u001b[0;34m.\u001b[0m\u001b[0mTime\u001b[0m\u001b[0;34m(\u001b[0m\u001b[0mtr\u001b[0m\u001b[0;34m.\u001b[0m\u001b[0mstart\u001b[0m\u001b[0;34m,\u001b[0m \u001b[0mtr\u001b[0m\u001b[0;34m.\u001b[0m\u001b[0mend\u001b[0m\u001b[0;34m)\u001b[0m\u001b[0;34m,\u001b[0m \u001b[0ma\u001b[0m\u001b[0;34m.\u001b[0m\u001b[0mInstrument\u001b[0m\u001b[0;34m(\u001b[0m\u001b[0;34m'XRS'\u001b[0m\u001b[0;34m)\u001b[0m\u001b[0;34m)\u001b[0m\u001b[0;34m\u001b[0m\u001b[0m\n\u001b[1;32m      4\u001b[0m \u001b[0mresultsXRS\u001b[0m\u001b[0;34m\u001b[0m\u001b[0m\n\u001b[1;32m      5\u001b[0m \u001b[0;34m\u001b[0m\u001b[0m\n",
      "\u001b[0;32m/usr/local/lib/python2.7/dist-packages/sunpy/time/timerange.pyc\u001b[0m in \u001b[0;36m__init__\u001b[0;34m(self, a, b)\u001b[0m\n\u001b[1;32m     56\u001b[0m         \u001b[0;31m# Normalize different input types\u001b[0m\u001b[0;34m\u001b[0m\u001b[0;34m\u001b[0m\u001b[0m\n\u001b[1;32m     57\u001b[0m         \u001b[0;32mif\u001b[0m \u001b[0mb\u001b[0m \u001b[0;32mis\u001b[0m \u001b[0mNone\u001b[0m\u001b[0;34m:\u001b[0m\u001b[0;34m\u001b[0m\u001b[0m\n\u001b[0;32m---> 58\u001b[0;31m             \u001b[0mx\u001b[0m \u001b[0;34m=\u001b[0m \u001b[0mparse_time\u001b[0m\u001b[0;34m(\u001b[0m\u001b[0ma\u001b[0m\u001b[0;34m[\u001b[0m\u001b[0;36m0\u001b[0m\u001b[0;34m]\u001b[0m\u001b[0;34m)\u001b[0m\u001b[0;34m\u001b[0m\u001b[0m\n\u001b[0m\u001b[1;32m     59\u001b[0m             \u001b[0;32mif\u001b[0m \u001b[0mlen\u001b[0m\u001b[0;34m(\u001b[0m\u001b[0ma\u001b[0m\u001b[0;34m)\u001b[0m \u001b[0;34m!=\u001b[0m \u001b[0;36m2\u001b[0m\u001b[0;34m:\u001b[0m\u001b[0;34m\u001b[0m\u001b[0m\n\u001b[1;32m     60\u001b[0m                 \u001b[0;32mraise\u001b[0m \u001b[0mValueError\u001b[0m\u001b[0;34m(\u001b[0m\u001b[0;34m'If b is None a must have two elements'\u001b[0m\u001b[0;34m)\u001b[0m\u001b[0;34m\u001b[0m\u001b[0m\n",
      "\u001b[0;32m/usr/local/lib/python2.7/dist-packages/sunpy/time/time.pyc\u001b[0m in \u001b[0;36mparse_time\u001b[0;34m(time_string, time_format, **kwargs)\u001b[0m\n\u001b[1;32m    210\u001b[0m             \u001b[0;32melse\u001b[0m\u001b[0;34m:\u001b[0m\u001b[0;34m\u001b[0m\u001b[0m\n\u001b[1;32m    211\u001b[0m                 \u001b[0;32mreturn\u001b[0m \u001b[0mdatetime\u001b[0m\u001b[0;34m.\u001b[0m\u001b[0mstrptime\u001b[0m\u001b[0;34m(\u001b[0m\u001b[0mtime_string\u001b[0m\u001b[0;34m,\u001b[0m \u001b[0mtime_string_parse_format\u001b[0m\u001b[0;34m)\u001b[0m\u001b[0;34m\u001b[0m\u001b[0m\n\u001b[0;32m--> 212\u001b[0;31m         \u001b[0;32mraise\u001b[0m \u001b[0mValueError\u001b[0m\u001b[0;34m(\u001b[0m\u001b[0;34m\"'{tstr!s}' is not a valid time string!\"\u001b[0m\u001b[0;34m.\u001b[0m\u001b[0mformat\u001b[0m\u001b[0;34m(\u001b[0m\u001b[0mtstr\u001b[0m\u001b[0;34m=\u001b[0m\u001b[0mtime_string\u001b[0m\u001b[0;34m)\u001b[0m\u001b[0;34m)\u001b[0m\u001b[0;34m\u001b[0m\u001b[0m\n\u001b[0m\u001b[1;32m    213\u001b[0m \u001b[0;34m\u001b[0m\u001b[0m\n\u001b[1;32m    214\u001b[0m \u001b[0;34m\u001b[0m\u001b[0m\n",
      "\u001b[0;31mValueError\u001b[0m: '2011' is not a valid time string!"
     ]
    }
   ],
   "source": [
    "tr = TimeRange(['2011', '2014'])\n",
    "\n",
    "resultsXRS = Fido.search(a.Time(tr.start, tr.end), a.Instrument('XRS'))\n",
    "resultsXRS\n",
    "\n",
    "filesXRS = Fido.fetch(resultsXRS, path='/home/yasser/Documents//HorasAsistenteB7088')\n",
    "print(filesXRS)\n",
    "goes = TimeSeries(filesXRS, source='XRS')\n",
    "goes.peek()\n",
    "\n",
    "print (goes.data)"
   ]
  },
  {
   "cell_type": "code",
   "execution_count": 4,
   "metadata": {},
   "outputs": [
    {
     "name": "stderr",
     "output_type": "stream",
     "text": [
      "/usr/local/lib/python2.7/dist-packages/matplotlib/figure.py:459: UserWarning: matplotlib is currently using a non-GUI backend, so cannot show the figure\n",
      "  \"matplotlib is currently using a non-GUI backend, \"\n"
     ]
    },
    {
     "data": {
      "image/png": "[encoded data removed]",
      "text/plain": [
       "<Figure size 432x288 with 2 Axes>"
      ]
     },
     "metadata": {},
     "output_type": "display_data"
    }
   ],
   "source": [
    "my_timeseries = goes.truncate('2011-06-07 05:30', '2011-06-07 08:00')\n",
    "my_timeseries.peek()"
   ]
  },
  {
   "cell_type": "markdown",
   "metadata": {},
   "source": [
    "\n",
    "Función findpeaks, que toma una serie de datos y busca los mínimos y máximos. Requiere un valor DELTA para \n"
   ]
  },
  {
   "cell_type": "code",
   "execution_count": 5,
   "metadata": {},
   "outputs": [],
   "source": [
    "def findpeaks(series, DELTA):\n",
    "    # Set inital values\n",
    "    mn, mx = np.Inf, -np.Inf\n",
    "    minpeaks = []\n",
    "    maxpeaks = []\n",
    "    lookformax = True\n",
    "    start = True\n",
    "    # Iterate over items in series\n",
    "    for time_pos, value in series.iteritems():\n",
    "        if value > mx:\n",
    "            mx = value\n",
    "            mxpos = time_pos\n",
    "        if value < mn:\n",
    "            mn = value\n",
    "            mnpos = time_pos\n",
    "        if lookformax:\n",
    "            if value < mx-DELTA:\n",
    "                # a local maxima\n",
    "                maxpeaks.append((mxpos, mx))\n",
    "                mn = value\n",
    "                mnpos = time_pos\n",
    "                lookformax = False\n",
    "            elif start:\n",
    "                # a local minima at beginning\n",
    "                minpeaks.append((mnpos, mn))\n",
    "                mx = value\n",
    "                mxpos = time_pos\n",
    "                start = False\n",
    "        else:\n",
    "            if value > mn+DELTA:\n",
    "                # a local minima\n",
    "                minpeaks.append((mnpos, mn))\n",
    "                mx = value\n",
    "                mxpos = time_pos\n",
    "                lookformax = True\n",
    "    # check for extrema at end\n",
    "    if value > mn+DELTA:\n",
    "        maxpeaks.append((mxpos, mx))\n",
    "    elif value < mx-DELTA:\n",
    "        minpeaks.append((mnpos, mn))\n",
    "    return minpeaks, maxpeaks"
   ]
  },
  {
   "cell_type": "code",
   "execution_count": 6,
   "metadata": {},
   "outputs": [
    {
     "name": "stdout",
     "output_type": "stream",
     "text": [
      "2011-06-07 05:30:01.818999    2.149400e-07\n",
      "2011-06-07 05:30:03.868999    2.175700e-07\n",
      "2011-06-07 05:30:05.914999    2.149400e-07\n",
      "2011-06-07 05:30:07.964999    2.149400e-07\n",
      "2011-06-07 05:30:10.011999    2.149400e-07\n",
      "2011-06-07 05:30:12.058999    2.175700e-07\n",
      "2011-06-07 05:30:14.108999    2.097000e-07\n",
      "2011-06-07 05:30:16.154999    2.149400e-07\n",
      "2011-06-07 05:30:18.201999    2.149400e-07\n",
      "2011-06-07 05:30:20.251999    2.201900e-07\n",
      "2011-06-07 05:30:22.298999    2.123200e-07\n",
      "2011-06-07 05:30:24.348999    2.149400e-07\n",
      "2011-06-07 05:30:26.394999    2.149400e-07\n",
      "2011-06-07 05:30:28.441999    2.123200e-07\n",
      "2011-06-07 05:30:30.491999    2.123200e-07\n",
      "2011-06-07 05:30:32.538999    2.149400e-07\n",
      "2011-06-07 05:30:34.588999    2.123200e-07\n",
      "2011-06-07 05:30:36.634999    2.070700e-07\n",
      "2011-06-07 05:30:38.681999    2.123200e-07\n",
      "2011-06-07 05:30:40.731999    2.070700e-07\n",
      "2011-06-07 05:30:42.778999    2.123200e-07\n",
      "2011-06-07 05:30:44.828999    2.070700e-07\n",
      "2011-06-07 05:30:46.874999    2.097000e-07\n",
      "2011-06-07 05:30:48.921999    2.097000e-07\n",
      "2011-06-07 05:30:50.971999    2.044500e-07\n",
      "2011-06-07 05:30:53.018999    2.044500e-07\n",
      "2011-06-07 05:30:55.068999    2.044500e-07\n",
      "2011-06-07 05:30:57.114999    2.070700e-07\n",
      "2011-06-07 05:30:59.161999    2.097000e-07\n",
      "2011-06-07 05:31:01.211999    2.044500e-07\n",
      "                                  ...     \n",
      "2011-06-07 07:58:59.141999    1.623600e-06\n",
      "2011-06-07 07:59:01.191999    1.618400e-06\n",
      "2011-06-07 07:59:03.238999    1.621000e-06\n",
      "2011-06-07 07:59:05.288999    1.618400e-06\n",
      "2011-06-07 07:59:07.334999    1.615800e-06\n",
      "2011-06-07 07:59:09.381999    1.615800e-06\n",
      "2011-06-07 07:59:11.431999    1.613100e-06\n",
      "2011-06-07 07:59:13.478999    1.613100e-06\n",
      "2011-06-07 07:59:15.528999    1.613100e-06\n",
      "2011-06-07 07:59:17.574999    1.610500e-06\n",
      "2011-06-07 07:59:19.621999    1.602600e-06\n",
      "2011-06-07 07:59:21.668999    1.602600e-06\n",
      "2011-06-07 07:59:23.718999    1.597400e-06\n",
      "2011-06-07 07:59:25.764999    1.605300e-06\n",
      "2011-06-07 07:59:27.814999    1.607900e-06\n",
      "2011-06-07 07:59:29.861999    1.600000e-06\n",
      "2011-06-07 07:59:31.908999    1.600000e-06\n",
      "2011-06-07 07:59:33.958999    1.597400e-06\n",
      "2011-06-07 07:59:36.004999    1.594800e-06\n",
      "2011-06-07 07:59:38.054999    1.594800e-06\n",
      "2011-06-07 07:59:40.101999    1.594800e-06\n",
      "2011-06-07 07:59:42.148999    1.594800e-06\n",
      "2011-06-07 07:59:44.198999    1.597400e-06\n",
      "2011-06-07 07:59:46.244999    1.597400e-06\n",
      "2011-06-07 07:59:48.294999    1.597400e-06\n",
      "2011-06-07 07:59:50.341999    1.594800e-06\n",
      "2011-06-07 07:59:52.388999    1.594800e-06\n",
      "2011-06-07 07:59:54.438999    1.586900e-06\n",
      "2011-06-07 07:59:56.484999    1.597400e-06\n",
      "2011-06-07 07:59:58.534999    1.589500e-06\n",
      "Name: xrsb, dtype: float32\n",
      "[(Timestamp('2011-06-07 05:30:01.818999'), 2.1494e-07), (Timestamp('2011-06-07 07:59:54.438999'), 1.5869e-06)]\n",
      "[(Timestamp('2011-06-07 06:41:24.118999'), 2.5554e-05)]\n"
     ]
    },
    {
     "data": {
      "image/png": "[encoded data removed]",
      "text/plain": [
       "<Figure size 432x288 with 1 Axes>"
      ]
     },
     "metadata": {},
     "output_type": "display_data"
    }
   ],
   "source": [
    "series = my_timeseries.data['xrsb']\n",
    "print (series)\n",
    "minpeaks, maxpeaks = findpeaks(series, DELTA=0.000001)\n",
    "\n",
    "print (minpeaks)\n",
    "print (maxpeaks)\n",
    "\n",
    "# Plotting the figure and extremum points\n",
    "plt.figure()\n",
    "plt.ylabel('Sunspot Number')\n",
    "plt.xlabel('Time')\n",
    "plt.title('Peaks in TimeSeries')\n",
    "series.plot()\n",
    "plt.scatter(*zip(*maxpeaks), color='red', label='max')\n",
    "#plt.scatter(*zip(*minpeaks), color='green', label='min')\n",
    "plt.legend()\n",
    "plt.grid(True)\n",
    "plt.show()"
   ]
  },
  {
   "cell_type": "code",
   "execution_count": null,
   "metadata": {},
   "outputs": [],
   "source": []
  }
 ],
 "metadata": {
  "kernelspec": {
   "display_name": "Python 2",
   "language": "python",
   "name": "python2"
  },
  "language_info": {
   "codemirror_mode": {
    "name": "ipython",
    "version": 2
   },
   "file_extension": ".py",
   "mimetype": "text/x-python",
   "name": "python",
   "nbconvert_exporter": "python",
   "pygments_lexer": "ipython2",
   "version": "2.7.13"
  }
 },
 "nbformat": 4,
 "nbformat_minor": 1
}
